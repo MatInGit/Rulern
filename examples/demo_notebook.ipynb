{
 "cells": [
  {
   "cell_type": "markdown",
   "metadata": {},
   "source": [
    "# Demo of the LCS package\n"
   ]
  },
  {
   "cell_type": "code",
   "execution_count": 2,
   "metadata": {},
   "outputs": [],
   "source": [
    "#preamble\n",
    "import os, sys\n",
    "import pandas as pd\n",
    "import numpy as np\n",
    "import random\n",
    "import pickle"
   ]
  },
  {
   "cell_type": "markdown",
   "metadata": {},
   "source": [
    "## Import Package"
   ]
  },
  {
   "cell_type": "code",
   "execution_count": 3,
   "metadata": {},
   "outputs": [],
   "source": [
    "# how to import the packaes\n",
    "from Rulern.LCSModule import LCS        # the core library\n",
    "from Rulern.RuleModule import Rule      # this is only needed if you create your own rules"
   ]
  },
  {
   "cell_type": "markdown",
   "metadata": {},
   "source": [
    "## Load Pre-Trained Models (Back-up)"
   ]
  },
  {
   "cell_type": "code",
   "execution_count": 4,
   "metadata": {},
   "outputs": [],
   "source": [
    "# #how to load the models using pickle\n",
    "\n",
    "# with open(\"Eval/LCSvsNN/28072020-bool/\"+\"0cv_model_LCS.obj\", 'rb') as f:\n",
    "#      model = pickle.load(f)\n"
   ]
  },
  {
   "cell_type": "code",
   "execution_count": 5,
   "metadata": {},
   "outputs": [],
   "source": [
    "# #show example rules form a trained model\n",
    "# # print(b.history)\n",
    "# for rule in model.rules:\n",
    "#     if rule.fitness > 1.0:                 # filter out all the bad rules\n",
    "#         print(rule,rule.fitness)           # print rule and rule fittness"
   ]
  },
  {
   "cell_type": "markdown",
   "metadata": {},
   "source": [
    "## Generating data (swap with your own data)"
   ]
  },
  {
   "cell_type": "code",
   "execution_count": 6,
   "metadata": {},
   "outputs": [
    {
     "name": "stdout",
     "output_type": "stream",
     "text": [
      "[1 1 1 1 0 1 1 0 0 1 1 1 1 1 1]\n",
      "     i0  i1  i2  i3  i4  i5  i6  i7  i8  i9  o0  o1  o2  o3  o4\n",
      "0     1   0   1   1   1   0   1   0   0   1   1   1   1   1   1\n",
      "1     1   0   0   1   1   0   1   0   0   0   1   1   0   1   1\n",
      "2     1   1   1   0   0   1   0   0   1   0   1   1   1   1   0\n",
      "3     0   1   0   0   1   0   1   0   0   0   0   1   0   0   1\n",
      "4     1   0   0   0   1   0   1   1   0   0   1   1   1   0   1\n",
      "..   ..  ..  ..  ..  ..  ..  ..  ..  ..  ..  ..  ..  ..  ..  ..\n",
      "995   0   0   1   1   1   1   0   1   1   0   1   0   1   1   1\n",
      "996   1   0   0   0   1   0   1   0   0   0   1   1   0   0   1\n",
      "997   0   1   1   0   0   1   1   1   0   1   1   1   1   0   1\n",
      "998   1   1   0   0   0   0   0   0   0   1   1   1   0   0   1\n",
      "999   0   1   0   0   1   1   0   0   1   1   1   1   0   1   1\n",
      "\n",
      "[1000 rows x 15 columns]\n"
     ]
    }
   ],
   "source": [
    "# generate data i 0 - 9 are the input bits and o0-4 are the output\n",
    "\n",
    "# replce this with your own data set and data wrangling operations\n",
    "\n",
    "# the LCS package can work with dataframes, arrays or numpy arrays\n",
    "\n",
    "def gen_rand_in_out(arr_len = 10):\n",
    "    input = []\n",
    "    for i in range(arr_len):\n",
    "        input.append(random.choice([1,0]))\n",
    "    output = np.array(input[0:int(arr_len/2)]) | np.array(input[int(arr_len/2):arr_len]) # logical or of the first and last five bits\n",
    "    return np.append(input,output)\n",
    "\n",
    "\n",
    "print(gen_rand_in_out())\n",
    "df = []\n",
    "np_samples = 1000\n",
    "for i in range(np_samples):\n",
    "    df.append(gen_rand_in_out())\n",
    "\n",
    "df = pd.DataFrame(np.array(df).reshape(np_samples,15),columns = [\"i0\",\"i1\",\"i2\",\"i3\",\"i4\",\"i5\",\"i6\",\"i7\",\"i8\",\"i9\",\"o0\",\"o1\",\"o2\",\"o3\",\"o4\"])\n",
    "print(df)\n"
   ]
  },
  {
   "cell_type": "markdown",
   "metadata": {},
   "source": [
    "## Initialise an LCS model (recommended order of operations)\n",
    "\n",
    "See Appendix B, Table B.1 for a summary of the model parameters"
   ]
  },
  {
   "cell_type": "code",
   "execution_count": 7,
   "metadata": {},
   "outputs": [],
   "source": [
    "# initialise LCS \n",
    "\n",
    "# recommended order of parameter initialisation\n",
    "\n",
    "def init_LCS():\n",
    "    lcs = LCS((10,1),(5,1),max_pop = 100)                                 #input and output shapes as well as the max population\n",
    "    lcs.input_names = [\"i0\",\"i1\",\"i2\",\"i3\",\"i4\",\"i5\",\"i6\",\"i7\",\"i8\",\"i9\"] # column names of the input \n",
    "    lcs.output_names = [\"o0\",\"o1\",\"o2\",\"o3\",\"o4\"]                         # column names of the outputs\n",
    "    lcs.initGA()                                                          # initialise genetic algorithms\n",
    "    lcs.covering_threshold = 5                                            # set a covering threshold - how may rules must match a data instance                                   \n",
    "    lcs.GA.interval = 0                                                   # the range interval if range antecedents are enabled\n",
    "    lcs.GA.sigma = 0.0                                                    # sigma of the spread of genetic mutations of the rule values\n",
    "    lcs.GA.max_ranges = 0                                                 # max number of ranges a rule can have = > i1 > 0.5 and i1 < 1.0\n",
    "    lcs.GA.max_attribute_comp = 0                                         # max number of attribute comparisons a rule can have = > i0 >= i1\n",
    "    lcs.GA.max_comp = 1                                                   # max number of attribute comparisons to a cosntant a rule can have = > i0 >= 0.5\n",
    "    lcs.GA.max_output_attributes = 0                                      # max number of ouput atributes excl. bias => i1*0.5 + i2*0.5 \n",
    "    lcs.fitness_weights =[1,0,1]                                          # weights on the fitness function c1, c2 and c3 in the report\n",
    "    lcs.GA.input_template = df[[\"i0\",\"i1\",\"i2\",\"i3\",\"i4\",\"i5\",\"i6\",\"i7\",\"i8\",\"i9\"]].iloc[[0]] # template on an input frame\n",
    "    lcs.purge_threshold = 1.0                                             # purge threshold\n",
    "    lcs.type = \"Multi-Class\"                                              # this by default is \"continous\" but can be a classifer if it is a a single-classifer\n",
    "    return lcs\n",
    "\n",
    "lcs = init_LCS()                                                          # initialise LCS\n",
    "\n",
    "X_test = df[lcs.input_names]                                              # get input data "
   ]
  },
  {
   "cell_type": "markdown",
   "metadata": {},
   "source": [
    " ## How to add your own rules"
   ]
  },
  {
   "cell_type": "code",
   "execution_count": 8,
   "metadata": {
    "scrolled": true
   },
   "outputs": [
    {
     "name": "stdout",
     "output_type": "stream",
     "text": [
      "If:  i0[0] == 1 Then: o0[1] =  + 1\n",
      "If:  i1[0] == 1 Then: o1[1] =  + 1\n",
      "If:  i2[0] == 1 Then: o2[1] =  + 1\n",
      "If:  i3[0] == 1 Then: o3[1] =  + 1\n",
      "If:  i4[0] == 1 Then: o4[1] =  + 1\n",
      "If:  i5[0] == 1 Then: o0[1] =  + 1\n",
      "If:  i6[0] == 1 Then: o1[1] =  + 1\n",
      "If:  i7[0] == 1 Then: o2[1] =  + 1\n",
      "If:  i8[0] == 1 Then: o3[1] =  + 1\n",
      "If:  i9[0] == 1 Then: o4[1] =  + 1\n"
     ]
    }
   ],
   "source": [
    "rules = []\n",
    "\n",
    "# how to add manual rules for an or  operation\n",
    "\n",
    "for i in range(5):\n",
    "    ant_dict = {\n",
    "    \"i\"+str(i):[[0],[\"==\"],[1]]                                          # antecedent dictionary structure\n",
    "    }\n",
    "    con_dict = {                                                         # consequent dictionary structure\n",
    "    \"out_var\":\"o\"+str(i),\n",
    "    \"vars\":{},\n",
    "    \"bias\":1}\n",
    "    rules.append(Rule(\"USER\"+str(i),ant_dict,con_dict,seq_len = 1))      # name, antecedent, consequent, sequence length (def. 1) \n",
    "    \n",
    "for i in range(5):\n",
    "    ant_dict = {\n",
    "    \"i\"+str(i+5):[[0],[\"==\"],[1]]\n",
    "    }\n",
    "    con_dict = {\n",
    "    \"out_var\":\"o\"+str(i),\n",
    "    \"vars\":{},\n",
    "    \"bias\":1}\n",
    "    rules.append(Rule(\"USER\"+str(i+5),ant_dict,con_dict,seq_len = 1))\n",
    "\n",
    "# initalise each rules parameters, if a rule does not have stats, it will not contribute to a classifcation\n",
    "    \n",
    "for rule in rules:\n",
    "    rule.fitness = 2\n",
    "    rule.correctness = 100\n",
    "    rule.matched = 100\n",
    "    rule.evaluated = 100\n",
    "    lcs.rules.append(rule)\n",
    "\n",
    "for rule in lcs.rules:\n",
    "    if rule.fitness > 1.0:                 # filter out all the bad rules\n",
    "        print(rule)   "
   ]
  },
  {
   "cell_type": "markdown",
   "metadata": {},
   "source": [
    "## Evaluate inputs"
   ]
  },
  {
   "cell_type": "code",
   "execution_count": 9,
   "metadata": {},
   "outputs": [],
   "source": [
    "# evaluate input data\n",
    "\n",
    "results,activations = lcs.evaluate_data(X_test)  "
   ]
  },
  {
   "cell_type": "markdown",
   "metadata": {},
   "source": [
    "### Show results"
   ]
  },
  {
   "cell_type": "code",
   "execution_count": 10,
   "metadata": {},
   "outputs": [
    {
     "name": "stdout",
     "output_type": "stream",
     "text": [
      "   o0  o1  o2  o3  o4\n",
      "0   1   1   1   1   1\n",
      "1   1   1   0   1   1\n",
      "2   1   1   1   1   0\n",
      "3   0   1   0   0   1\n",
      "4   1   1   1   0   1\n",
      "5   1   0   0   1   1\n",
      "6   0   1   0   1   1\n",
      "7   1   1   0   1   1\n",
      "8   1   1   0   1   1\n",
      "9   1   1   1   0   1 [6, 4, 5, 3, 4, 4, 3, 4, 5, 6]\n"
     ]
    }
   ],
   "source": [
    "print(results[0:10].apply(np.ceil).astype(\"int\"),activations[0:10]) #print the prediction and activations for each row"
   ]
  },
  {
   "cell_type": "code",
   "execution_count": 11,
   "metadata": {},
   "outputs": [
    {
     "name": "stdout",
     "output_type": "stream",
     "text": [
      "   o0  o1  o2  o3  o4\n",
      "0   1   1   1   1   1\n",
      "1   1   1   0   1   1\n",
      "2   1   1   1   1   0\n",
      "3   0   1   0   0   1\n",
      "4   1   1   1   0   1\n",
      "5   1   0   0   1   1\n",
      "6   0   1   0   1   1\n",
      "7   1   1   0   1   1\n",
      "8   1   1   0   1   1\n",
      "9   1   1   1   0   1\n"
     ]
    }
   ],
   "source": [
    "y_test= df[lcs.output_names]\n",
    "print(y_test.iloc[0:10]) # print the true value for comparison"
   ]
  },
  {
   "cell_type": "markdown",
   "metadata": {},
   "source": [
    "## How to train your own LCS model"
   ]
  },
  {
   "cell_type": "code",
   "execution_count": 12,
   "metadata": {},
   "outputs": [
    {
     "name": "stdout",
     "output_type": "stream",
     "text": [
      "Epoch:  0  Avg. Fitness:  0.37961713286713283  +/-  0.5731341644763461  # of Rules: 13  acc:  0.011  ttc:  1.3935685000000007  sec\n",
      "Epoch:  1  Avg. Fitness:  0.9431467290482458  +/-  0.14984297872754176  # of Rules: 9  acc:  0.024  ttc:  2.7810441000000026  sec\n",
      "Epoch:  2  Avg. Fitness:  0.6082161478617263  +/-  0.543890636952773  # of Rules: 16  acc:  0.314  ttc:  4.332149999999999  sec\n",
      "Epoch:  3  Avg. Fitness:  0.6423955846552017  +/-  0.4980468762866746  # of Rules: 16  acc:  0.43  ttc:  5.791530199999997  sec\n",
      "Epoch:  4  Avg. Fitness:  1.020536150735944  +/-  0.024405407779096253  # of Rules: 13  acc:  0.498  ttc:  7.272680499999993  sec\n",
      "Epoch:  5  Avg. Fitness:  1.023101551388196  +/-  0.04272721369665697  # of Rules: 13  acc:  0.566  ttc:  8.647738799999999  sec\n",
      "Epoch:  6  Avg. Fitness:  1.0173186984706175  +/-  0.026223537353018384  # of Rules: 12  acc:  0.561  ttc:  10.016231700000006  sec\n",
      "Epoch:  7  Avg. Fitness:  0.718162051899366  +/-  0.4784746801182186  # of Rules: 23  acc:  0.449  ttc:  11.703870600000002  sec\n",
      "Epoch:  8  Avg. Fitness:  1.0123039002570304  +/-  0.023978390083323517  # of Rules: 16  acc:  0.472  ttc:  13.219788600000001  sec\n",
      "Epoch:  9  Avg. Fitness:  0.589879504149864  +/-  0.498618282493891  # of Rules: 24  acc:  0.561  ttc:  14.9123388  sec\n"
     ]
    }
   ],
   "source": [
    "#how to train your own LCS\n",
    "\n",
    "\n",
    "# initialise new LCS instance\n",
    "lcs = init_LCS() \n",
    "\n",
    "\n",
    "# initialise new LCS instance\n",
    "\n",
    "lcs.LearningClassifierSystem(X_test.iloc[0:100],y_test.iloc[0:100],mutation_frq = 10,verberose = True,eval = [X_test,y_test],epochs = 10) \n",
    "\n",
    "results,activations = lcs.evaluate_data(X_test) "
   ]
  },
  {
   "cell_type": "code",
   "execution_count": 13,
   "metadata": {},
   "outputs": [
    {
     "name": "stdout",
     "output_type": "stream",
     "text": [
      "If:  i4[0] == 1.0 Then: o4[1] =  + 1.0 1.0304117647058826\n",
      "If:  i4[0] >= 1.0 Then: o4[1] =  + 1.0 1.03176923076923\n",
      "If:  i1[0] == 1.0 Then: o1[1] =  + 1.0 1.0050650406504098\n",
      "If:  i5[0] >= 1.0 Then: o0[1] =  + 1 1.0176666666666592\n",
      "If:  i6[0] == 1 Then: o1[1] =  + 1 1.0122866817155673\n",
      "If:  i2[0] >= 1.0 Then: o2[1] =  + 1 1.0096206896551683\n",
      "If:  i3[0] == 1 Then: o3[1] =  + 1 1.000999999999998\n",
      "If:  i2[0] == 1 Then: o2[1] =  + 1 1.004194888178912\n",
      "If:  i1[0] >= 1.0 Then: o1[1] =  + 1 1.0088431372549052\n",
      "If:  i0[0] == 1 Then: o0[1] =  + 1 1.000999999999999\n",
      "If:  i0[0] >= 1.0 Then: o0[1] =  + 1 1.0010000000000012\n",
      "If:  i9[0] == 1 Then: o4[1] =  + 1 1.0010000000000026\n",
      "If:  i9[0] >= 1.0 Then: o4[1] =  + 1 1.0010000000000003\n",
      "If:  i5[0] == 1 Then: o0[1] =  + 1 1.0322500000000003\n",
      "If:  i2[0] == 0 Then: o3[1] =  + 1 0\n",
      "If:  i2[0] <= 0.0 Then: o2[1] =  + 0 0\n",
      "If:  i1[0] == 0 Then: o0[1] =  + 0 0\n",
      "If:  i4[0] >= 0.0 Then: o1[1] =  + 1 0\n",
      "If:  i3[0] >= 1.0 Then: o2[1] =  + 0 0\n",
      "If:  i4[0] <= 0.0 Then: o2[1] =  + 0 0\n",
      "If:  i2[0] >= 0.0 Then: o0[1] =  + 0 0\n",
      "If:  i8[0] == 0 Then: o1[1] =  + 1 0\n",
      "If:  i7[0] <= 0.0 Then: o2[1] =  + 0 0\n",
      "If:  i1[0] <= 0.0 Then: o0[1] =  + 0 0\n"
     ]
    }
   ],
   "source": [
    "for rule in lcs.rules:\n",
    "    #if rule.fitness > 0:                 # filter out all the bad rules\n",
    "    print(rule,rule.fitness)   "
   ]
  },
  {
   "cell_type": "code",
   "execution_count": 14,
   "metadata": {},
   "outputs": [
    {
     "name": "stdout",
     "output_type": "stream",
     "text": [
      "    o0  o1  o2  o3  o4\n",
      "10   1   1   1   0   1\n",
      "11   1   0   1   0   1\n",
      "12   1   0   0   0   1\n",
      "13   1   1   0   1   1\n",
      "14   1   1   1   0   1\n",
      "15   1   0   1   0   1\n",
      "16   1   1   0   1   1\n",
      "17   0   1   0   0   1\n",
      "18   1   0   0   1   1\n",
      "19   1   1   0   0   1 [12, 9, 9, 8, 8, 7, 5, 7, 9, 13]\n"
     ]
    }
   ],
   "source": [
    "# show system classfications, recommeded to use ceil for muticlass models outputs\n",
    "print(results[10:20].apply(np.ceil).astype(\"int\"),activations[0:10]) #print the prediction and activations for each row"
   ]
  },
  {
   "cell_type": "code",
   "execution_count": 15,
   "metadata": {},
   "outputs": [
    {
     "name": "stdout",
     "output_type": "stream",
     "text": [
      "    o0  o1  o2  o3  o4\n",
      "10   1   1   1   1   1\n",
      "11   1   0   1   1   1\n",
      "12   1   0   0   0   1\n",
      "13   1   1   0   1   1\n",
      "14   1   1   1   0   1\n",
      "15   1   0   1   1   1\n",
      "16   1   1   1   1   1\n",
      "17   0   1   1   1   1\n",
      "18   1   0   0   1   1\n",
      "19   1   1   0   0   1\n"
     ]
    }
   ],
   "source": [
    "y_test= df[lcs.output_names]\n",
    "print(y_test.iloc[10:20]) # print the true value for comparison"
   ]
  },
  {
   "cell_type": "code",
   "execution_count": null,
   "metadata": {},
   "outputs": [],
   "source": []
  }
 ],
 "metadata": {
  "kernelspec": {
   "display_name": "Python 3",
   "language": "python",
   "name": "python3"
  },
  "language_info": {
   "codemirror_mode": {
    "name": "ipython",
    "version": 3
   },
   "file_extension": ".py",
   "mimetype": "text/x-python",
   "name": "python",
   "nbconvert_exporter": "python",
   "pygments_lexer": "ipython3",
   "version": "3.7.3"
  },
  "latex_envs": {
   "LaTeX_envs_menu_present": true,
   "autoclose": false,
   "autocomplete": true,
   "bibliofile": "biblio.bib",
   "cite_by": "apalike",
   "current_citInitial": 1,
   "eqLabelWithNumbers": true,
   "eqNumInitial": 1,
   "hotkeys": {
    "equation": "Ctrl-E",
    "itemize": "Ctrl-I"
   },
   "labels_anchors": false,
   "latex_user_defs": false,
   "report_style_numbering": false,
   "user_envs_cfg": false
  }
 },
 "nbformat": 4,
 "nbformat_minor": 4
}
